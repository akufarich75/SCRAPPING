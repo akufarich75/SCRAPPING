{
 "cells": [
  {
   "cell_type": "markdown",
   "metadata": {},
   "source": [
    "## Scrap Comments from IG JSON File and Make it to DataFrame\n",
    "\n",
    "    * Import Modules and JSON File\n",
    "    * Access the Comment Text\n",
    "    * Make it to DataFrame"
   ]
  },
  {
   "cell_type": "markdown",
   "metadata": {},
   "source": [
    "### Import Modules and JSON File"
   ]
  },
  {
   "cell_type": "code",
   "execution_count": 39,
   "metadata": {},
   "outputs": [],
   "source": [
    "import json\n",
    "import re\n",
    "import pandas as pd"
   ]
  },
  {
   "cell_type": "code",
   "execution_count": 40,
   "metadata": {},
   "outputs": [
    {
     "name": "stdout",
     "output_type": "stream",
     "text": [
      "[{'id': 17897170639519292, 'created_at': 1594075958, 'text': 'Follback kakk', 'owner': {'id': '3303150253', 'is_verified': False, 'profile_pic_url': 'https://instagram.fcgk7-1.fna.fbcdn.net/v/t51.2885-19/s150x150/117756683_295261911700629_8440515828210635539_n.jpg?_nc_ht=instagram.fcgk7-1.fna.fbcdn.net&_nc_ohc=-Wr3F83xwWgAX9UR4Bd&oh=f87e2c4442ad6b3ce24a3e6a1bc211fa&oe=5F7E4BF8', 'username': 'ndolle__'}, 'likes_count': 0, 'answers': []}, {'id': 17921219077114945, 'created_at': 1522625970, 'text': '@fhardian wahaha itu rahasia perusahaan bang hehe', 'owner': {'id': '3144609937', 'is_verified': False, 'profile_pic_url': 'https://instagram.fcgk7-1.fna.fbcdn.net/v/t51.2885-19/s150x150/118652949_2203321636481062_3786851475984374207_n.jpg?_nc_ht=instagram.fcgk7-1.fna.fbcdn.net&_nc_ohc=NcJcxWfgyLUAX8qg024&oh=6a4acff0db07922ef04819aab717cc4b&oe=5F7F2950', 'username': 'syamilfakhruddin'}, 'likes_count': 0, 'answers': []}, {'id': 17934251350028392, 'created_at': 1522592742, 'text': 'Wkwkwkwk indomie selerakuuu. Abis berapa porsi mil? Coba diceritakan haha', 'owner': {'id': '19222194', 'is_verified': False, 'profile_pic_url': 'https://instagram.fcgk7-1.fna.fbcdn.net/v/t51.2885-19/s150x150/80320618_577054936458269_6936451622755106816_n.jpg?_nc_ht=instagram.fcgk7-1.fna.fbcdn.net&_nc_ohc=l3Yf5EEjNCoAX_YzcHs&oh=266a34908c7d75958db7f8c4b59632ae&oe=5F7CB88E', 'username': 'fhardian'}, 'likes_count': 0, 'answers': []}, {'id': 17911434058131736, 'created_at': 1522591494, 'text': 'Bagussss pemandangannyaa >●<', 'owner': {'id': '1233571428', 'is_verified': False, 'profile_pic_url': 'https://instagram.fcgk7-1.fna.fbcdn.net/v/t51.2885-19/s150x150/94418449_672886906802378_4680017998918975488_n.jpg?_nc_ht=instagram.fcgk7-1.fna.fbcdn.net&_nc_ohc=hZpcAkNlHaoAX-C0sHf&oh=d2d6c1f4fc9125da97aa9c1675493eca&oe=5F7D7DA4', 'username': 'nrhrsy'}, 'likes_count': 0, 'answers': []}, {'id': 17921625595129068, 'created_at': 1522587270, 'text': 'Bagus bgt miiiiil *_*', 'owner': {'id': '3251197289', 'is_verified': False, 'profile_pic_url': 'https://instagram.fcgk7-1.fna.fbcdn.net/v/t51.2885-19/s150x150/75328477_193995162008428_3609248812314345059_n.jpg?_nc_ht=instagram.fcgk7-1.fna.fbcdn.net&_nc_ohc=TjtcnWchmNYAX-wZtpH&oh=5deb7a7c38a0018add7b2e913e138de3&oe=5F7C72A0', 'username': 'faizahmuthi'}, 'likes_count': 1, 'answers': []}, {'id': 17919617842125955, 'created_at': 1522587063, 'text': '@putripuspitaningrum siap kak tinggal mention aja itu mah wkwk', 'owner': {'id': '3144609937', 'is_verified': False, 'profile_pic_url': 'https://instagram.fcgk7-1.fna.fbcdn.net/v/t51.2885-19/s150x150/118652949_2203321636481062_3786851475984374207_n.jpg?_nc_ht=instagram.fcgk7-1.fna.fbcdn.net&_nc_ohc=NcJcxWfgyLUAX8qg024&oh=6a4acff0db07922ef04819aab717cc4b&oe=5F7F2950', 'username': 'syamilfakhruddin'}, 'likes_count': 0, 'answers': []}, {'id': 17844743914252926, 'created_at': 1522586320, 'text': 'Jgn lupa ikut lomba kalo indomie adain kontes foto yaaa mil wkwkw', 'owner': {'id': '265628771', 'is_verified': False, 'profile_pic_url': 'https://instagram.fcgk7-1.fna.fbcdn.net/v/t51.2885-19/s150x150/118474855_327484338369001_3139925004091554944_n.jpg?_nc_ht=instagram.fcgk7-1.fna.fbcdn.net&_nc_ohc=BwUfUaZtd2cAX_eXlq5&oh=5692edd39591f504a6de2ec3f7deb644&oe=5F7EE8EC', 'username': 'putripuspitaningrum'}, 'likes_count': 0, 'answers': []}]\n"
     ]
    }
   ],
   "source": [
    "# Load Comment's JSON file\n",
    "with open('comments1.json', 'r') as com1:\n",
    "    comment1 = json.load(com1)\n",
    "    print(comment1)"
   ]
  },
  {
   "cell_type": "code",
   "execution_count": 41,
   "metadata": {},
   "outputs": [
    {
     "data": {
      "text/plain": [
       "{'id': 17897170639519292,\n",
       " 'created_at': 1594075958,\n",
       " 'text': 'Follback kakk',\n",
       " 'owner': {'id': '3303150253',\n",
       "  'is_verified': False,\n",
       "  'profile_pic_url': 'https://instagram.fcgk7-1.fna.fbcdn.net/v/t51.2885-19/s150x150/117756683_295261911700629_8440515828210635539_n.jpg?_nc_ht=instagram.fcgk7-1.fna.fbcdn.net&_nc_ohc=-Wr3F83xwWgAX9UR4Bd&oh=f87e2c4442ad6b3ce24a3e6a1bc211fa&oe=5F7E4BF8',\n",
       "  'username': 'ndolle__'},\n",
       " 'likes_count': 0,\n",
       " 'answers': []}"
      ]
     },
     "execution_count": 41,
     "metadata": {},
     "output_type": "execute_result"
    }
   ],
   "source": [
    "#access 1 comment\n",
    "comment1[0]"
   ]
  },
  {
   "cell_type": "code",
   "execution_count": 42,
   "metadata": {},
   "outputs": [
    {
     "data": {
      "text/plain": [
       "'Follback kakk'"
      ]
     },
     "execution_count": 42,
     "metadata": {},
     "output_type": "execute_result"
    }
   ],
   "source": [
    "#access to that text\n",
    "comment1[0]['text']"
   ]
  },
  {
   "cell_type": "code",
   "execution_count": 43,
   "metadata": {
    "scrolled": false
   },
   "outputs": [
    {
     "name": "stdout",
     "output_type": "stream",
     "text": [
      "Follback kakk\n",
      "@fhardian wahaha itu rahasia perusahaan bang hehe\n",
      "Wkwkwkwk indomie selerakuuu. Abis berapa porsi mil? Coba diceritakan haha\n",
      "Bagussss pemandangannyaa >●<\n",
      "Bagus bgt miiiiil *_*\n",
      "@putripuspitaningrum siap kak tinggal mention aja itu mah wkwk\n",
      "Jgn lupa ikut lomba kalo indomie adain kontes foto yaaa mil wkwkw\n"
     ]
    }
   ],
   "source": [
    "# cehck all comments in a post\n",
    "for comm1 in comment1:\n",
    "    print(comm1['text'])"
   ]
  },
  {
   "cell_type": "markdown",
   "metadata": {},
   "source": [
    "### Make it into a DataFrame"
   ]
  },
  {
   "cell_type": "code",
   "execution_count": 44,
   "metadata": {},
   "outputs": [],
   "source": [
    "# empty list\n",
    "comments = []\n",
    "\n",
    "for comm1 in comment1:\n",
    "    komen = [] #empty list\n",
    "    komen.append(comm1['id']) #input id to list\n",
    "    komen.append(' '.join(re.sub(\"(@[A-Za-z0-9]+)|([^0-9A-Za-z \\t])|(\\w+:\\/\\/\\S+)\", \" \",\n",
    "                        comm1['text']).split())) #fast clean text and input that to the list\n",
    "    comments.append(komen) #append to comments list"
   ]
  },
  {
   "cell_type": "code",
   "execution_count": 45,
   "metadata": {},
   "outputs": [
    {
     "data": {
      "text/plain": [
       "[[17897170639519292, 'Follback kakk'],\n",
       " [17921219077114945, 'wahaha itu rahasia perusahaan bang hehe'],\n",
       " [17934251350028392,\n",
       "  'Wkwkwkwk indomie selerakuuu Abis berapa porsi mil Coba diceritakan haha'],\n",
       " [17911434058131736, 'Bagussss pemandangannyaa'],\n",
       " [17921625595129068, 'Bagus bgt miiiiil'],\n",
       " [17919617842125955, 'siap kak tinggal mention aja itu mah wkwk'],\n",
       " [17844743914252926,\n",
       "  'Jgn lupa ikut lomba kalo indomie adain kontes foto yaaa mil wkwkw']]"
      ]
     },
     "execution_count": 45,
     "metadata": {},
     "output_type": "execute_result"
    }
   ],
   "source": [
    "comments"
   ]
  },
  {
   "cell_type": "code",
   "execution_count": 46,
   "metadata": {},
   "outputs": [],
   "source": [
    "df = pd.DataFrame(comments, columns=['User ID', 'comments'])"
   ]
  },
  {
   "cell_type": "code",
   "execution_count": 47,
   "metadata": {
    "scrolled": false
   },
   "outputs": [
    {
     "data": {
      "text/html": [
       "<div>\n",
       "<style scoped>\n",
       "    .dataframe tbody tr th:only-of-type {\n",
       "        vertical-align: middle;\n",
       "    }\n",
       "\n",
       "    .dataframe tbody tr th {\n",
       "        vertical-align: top;\n",
       "    }\n",
       "\n",
       "    .dataframe thead th {\n",
       "        text-align: right;\n",
       "    }\n",
       "</style>\n",
       "<table border=\"1\" class=\"dataframe\">\n",
       "  <thead>\n",
       "    <tr style=\"text-align: right;\">\n",
       "      <th></th>\n",
       "      <th>User ID</th>\n",
       "      <th>comments</th>\n",
       "    </tr>\n",
       "  </thead>\n",
       "  <tbody>\n",
       "    <tr>\n",
       "      <th>0</th>\n",
       "      <td>17897170639519292</td>\n",
       "      <td>Follback kakk</td>\n",
       "    </tr>\n",
       "    <tr>\n",
       "      <th>1</th>\n",
       "      <td>17921219077114945</td>\n",
       "      <td>wahaha itu rahasia perusahaan bang hehe</td>\n",
       "    </tr>\n",
       "    <tr>\n",
       "      <th>2</th>\n",
       "      <td>17934251350028392</td>\n",
       "      <td>Wkwkwkwk indomie selerakuuu Abis berapa porsi ...</td>\n",
       "    </tr>\n",
       "    <tr>\n",
       "      <th>3</th>\n",
       "      <td>17911434058131736</td>\n",
       "      <td>Bagussss pemandangannyaa</td>\n",
       "    </tr>\n",
       "    <tr>\n",
       "      <th>4</th>\n",
       "      <td>17921625595129068</td>\n",
       "      <td>Bagus bgt miiiiil</td>\n",
       "    </tr>\n",
       "    <tr>\n",
       "      <th>5</th>\n",
       "      <td>17919617842125955</td>\n",
       "      <td>siap kak tinggal mention aja itu mah wkwk</td>\n",
       "    </tr>\n",
       "    <tr>\n",
       "      <th>6</th>\n",
       "      <td>17844743914252926</td>\n",
       "      <td>Jgn lupa ikut lomba kalo indomie adain kontes ...</td>\n",
       "    </tr>\n",
       "  </tbody>\n",
       "</table>\n",
       "</div>"
      ],
      "text/plain": [
       "             User ID                                           comments\n",
       "0  17897170639519292                                      Follback kakk\n",
       "1  17921219077114945            wahaha itu rahasia perusahaan bang hehe\n",
       "2  17934251350028392  Wkwkwkwk indomie selerakuuu Abis berapa porsi ...\n",
       "3  17911434058131736                           Bagussss pemandangannyaa\n",
       "4  17921625595129068                                  Bagus bgt miiiiil\n",
       "5  17919617842125955          siap kak tinggal mention aja itu mah wkwk\n",
       "6  17844743914252926  Jgn lupa ikut lomba kalo indomie adain kontes ..."
      ]
     },
     "execution_count": 47,
     "metadata": {},
     "output_type": "execute_result"
    }
   ],
   "source": [
    "df"
   ]
  },
  {
   "cell_type": "markdown",
   "metadata": {},
   "source": [
    "### Make dataframe from coments in all posts"
   ]
  },
  {
   "cell_type": "code",
   "execution_count": 56,
   "metadata": {},
   "outputs": [],
   "source": [
    "posts = ['comments1.json', 'comments2.json', 'comments3.json']\n",
    "\n",
    "for i, post in enumerate(posts):\n",
    "    if i == 1:\n",
    "        with open(post, 'r') as com1:\n",
    "            comment1 = json.load(com1)\n",
    "    elif i == 2:\n",
    "        with open(post, 'r') as com2:\n",
    "            comment2 = json.load(com2)\n",
    "    else:\n",
    "        with open(post, 'r') as com3:\n",
    "            comment3 = json.load(com3)"
   ]
  },
  {
   "cell_type": "code",
   "execution_count": 69,
   "metadata": {},
   "outputs": [],
   "source": [
    "komens = []"
   ]
  },
  {
   "cell_type": "code",
   "execution_count": 70,
   "metadata": {},
   "outputs": [],
   "source": [
    "for comm1 in comment1:\n",
    "    komen1 = []\n",
    "    komen1.append(comm1['id'])\n",
    "    komen1.append(' '.join(re.sub(\"(@[A-Za-z0-9]+)|([^0-9A-Za-z \\t])|(\\w+:\\/\\/\\S+)\", \" \",\n",
    "                        comm1['text']).split()))\n",
    "    komens.append(komen1)"
   ]
  },
  {
   "cell_type": "code",
   "execution_count": 71,
   "metadata": {},
   "outputs": [],
   "source": [
    "for comm2 in comment2:\n",
    "    komen2 = []\n",
    "    komen2.append(comm2['id'])\n",
    "    komen2.append(' '.join(re.sub(\"(@[A-Za-z0-9]+)|([^0-9A-Za-z \\t])|(\\w+:\\/\\/\\S+)\", \" \",\n",
    "                        comm2['text']).split()))\n",
    "    komens.append(komen2)"
   ]
  },
  {
   "cell_type": "code",
   "execution_count": 72,
   "metadata": {},
   "outputs": [],
   "source": [
    "for comm3 in comment3:\n",
    "    komen3 = []\n",
    "    komen3.append(comm3['id'])\n",
    "    komen3.append(' '.join(re.sub(\"(@[A-Za-z0-9]+)|([^0-9A-Za-z \\t])|(\\w+:\\/\\/\\S+)\", \" \",\n",
    "                        comm3['text']).split()))\n",
    "    komens.append(komen3)"
   ]
  },
  {
   "cell_type": "code",
   "execution_count": 73,
   "metadata": {},
   "outputs": [],
   "source": [
    "data = pd.DataFrame(komens, columns=['User ID', 'comments'])"
   ]
  },
  {
   "cell_type": "code",
   "execution_count": 75,
   "metadata": {},
   "outputs": [
    {
     "data": {
      "text/html": [
       "<div>\n",
       "<style scoped>\n",
       "    .dataframe tbody tr th:only-of-type {\n",
       "        vertical-align: middle;\n",
       "    }\n",
       "\n",
       "    .dataframe tbody tr th {\n",
       "        vertical-align: top;\n",
       "    }\n",
       "\n",
       "    .dataframe thead th {\n",
       "        text-align: right;\n",
       "    }\n",
       "</style>\n",
       "<table border=\"1\" class=\"dataframe\">\n",
       "  <thead>\n",
       "    <tr style=\"text-align: right;\">\n",
       "      <th></th>\n",
       "      <th>User ID</th>\n",
       "      <th>comments</th>\n",
       "    </tr>\n",
       "  </thead>\n",
       "  <tbody>\n",
       "    <tr>\n",
       "      <th>0</th>\n",
       "      <td>17845441304150493</td>\n",
       "      <td>Semoga sehat selalu kawan</td>\n",
       "    </tr>\n",
       "    <tr>\n",
       "      <th>1</th>\n",
       "      <td>17918178484413779</td>\n",
       "      <td>hujan sudah reda kamu nya malah ga ada</td>\n",
       "    </tr>\n",
       "    <tr>\n",
       "      <th>2</th>\n",
       "      <td>17877305767650951</td>\n",
       "      <td>Mil sehat</td>\n",
       "    </tr>\n",
       "    <tr>\n",
       "      <th>3</th>\n",
       "      <td>17901338227541577</td>\n",
       "      <td>Barakallah lakuma bang semoga bisa silaturahmi...</td>\n",
       "    </tr>\n",
       "    <tr>\n",
       "      <th>4</th>\n",
       "      <td>17917218682457665</td>\n",
       "      <td>Selamat yee mil</td>\n",
       "    </tr>\n",
       "  </tbody>\n",
       "</table>\n",
       "</div>"
      ],
      "text/plain": [
       "             User ID                                           comments\n",
       "0  17845441304150493                          Semoga sehat selalu kawan\n",
       "1  17918178484413779             hujan sudah reda kamu nya malah ga ada\n",
       "2  17877305767650951                                          Mil sehat\n",
       "3  17901338227541577  Barakallah lakuma bang semoga bisa silaturahmi...\n",
       "4  17917218682457665                                    Selamat yee mil"
      ]
     },
     "execution_count": 75,
     "metadata": {},
     "output_type": "execute_result"
    }
   ],
   "source": [
    "data.head()"
   ]
  },
  {
   "cell_type": "code",
   "execution_count": null,
   "metadata": {},
   "outputs": [],
   "source": []
  }
 ],
 "metadata": {
  "kernelspec": {
   "display_name": "Python 3",
   "language": "python",
   "name": "python3"
  },
  "language_info": {
   "codemirror_mode": {
    "name": "ipython",
    "version": 3
   },
   "file_extension": ".py",
   "mimetype": "text/x-python",
   "name": "python",
   "nbconvert_exporter": "python",
   "pygments_lexer": "ipython3",
   "version": "3.7.6"
  }
 },
 "nbformat": 4,
 "nbformat_minor": 4
}
